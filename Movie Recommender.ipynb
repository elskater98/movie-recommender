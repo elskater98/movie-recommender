{
 "cells": [
  {
   "cell_type": "markdown",
   "id": "bc688d86",
   "metadata": {},
   "source": [
    "# Second Exercise: Cosine Similarity for movie comparison\n",
    "\n",
    "In this exercise you have to implement in a python notebook using the spark framework:\n",
    "\n",
    "1. The distributed (map/reduce) algorithm of slide \"3.7\" (in notebook \"8-Item-to-Items-globalfiltering-recommenders-py3-sshow.ipynb\")\n",
    "for computing the cosine similarity of a set of products with negative and positive ratings, using as input information an RDD (or spark dataframe that is also distributed) with ratings with this format:\n",
    "\n",
    "     (userID,movieID,rating)\n",
    "\n",
    "2. The computation of the Cosine Similarity (with the previous algorithm) of all the pairs of movies from the different files you have with this exercise:\n",
    "  filtered50movies.csv filtered100movies.csv  filtered150movies.csv   filtered200movies.csv\n",
    "\n",
    "Each file contains ratings for a different set of movies, but the ones in a smaller file\n",
    "are always a subset of a file with bigger size. We provide files with different size\n",
    "in case you have some memory issues in your computer, so use the biggest file you are able to use, although during \"testing\" of your code you can of course use the smallest file, or even any smaller subset of the file filtered50movies.csv.\n",
    "\n",
    "3. Show on the screen the information for the \"top 10\" most similar pairs, but using the\n",
    "name of the movies you can find in the file movies.\n",
    "\n",
    "All the steps should be implemented always with map/reduce operations with spark RDDs/dataframes. Except the last step, when you have to find the name of the movies in the top-ten recommendations.\n",
    "\n",
    "Present your notebook with plenty of comments in all your functions.\n",
    "\n",
    "NOTE: The ratings for movies come from a dataset obtained from the smallest dataset from:\n",
    "https://grouplens.org/datasets/movielens/\n",
    "But the ratings have been re-scaled from the range [0,5] to the range [-3,2.5]"
   ]
  },
  {
   "cell_type": "code",
   "execution_count": 27,
   "id": "cd5b92d3",
   "metadata": {},
   "outputs": [],
   "source": [
    "# Libraries\n",
    "import pyspark\n",
    "import os\n",
    "import math\n",
    "import sys\n",
    "from pyspark.sql import SparkSession\n",
    "from pyspark.sql.functions import col"
   ]
  },
  {
   "cell_type": "code",
   "execution_count": 2,
   "id": "ecedfbcc",
   "metadata": {},
   "outputs": [
    {
     "data": {
      "text/html": [
       "\n",
       "            <div>\n",
       "                <p><b>SparkSession - in-memory</b></p>\n",
       "                \n",
       "        <div>\n",
       "            <p><b>SparkContext</b></p>\n",
       "\n",
       "            <p><a href=\"http://b560m.lan:4041\">Spark UI</a></p>\n",
       "\n",
       "            <dl>\n",
       "              <dt>Version</dt>\n",
       "                <dd><code>v3.1.2</code></dd>\n",
       "              <dt>Master</dt>\n",
       "                <dd><code>local[*]</code></dd>\n",
       "              <dt>AppName</dt>\n",
       "                <dd><code>MovieRecommender</code></dd>\n",
       "            </dl>\n",
       "        </div>\n",
       "        \n",
       "            </div>\n",
       "        "
      ],
      "text/plain": [
       "<pyspark.sql.session.SparkSession at 0x7fc504ec7ac0>"
      ]
     },
     "execution_count": 2,
     "metadata": {},
     "output_type": "execute_result"
    }
   ],
   "source": [
    "# Spark Session\n",
    "spark = SparkSession.builder.appName('MovieRecommender').getOrCreate()\n",
    "spark"
   ]
  },
  {
   "cell_type": "code",
   "execution_count": 3,
   "id": "cc990193",
   "metadata": {},
   "outputs": [
    {
     "name": "stdout",
     "output_type": "stream",
     "text": [
      "+-------+--------------------+--------------------+\n",
      "|movieId|               title|              genres|\n",
      "+-------+--------------------+--------------------+\n",
      "|      1|    Toy Story (1995)|Adventure|Animati...|\n",
      "|      2|      Jumanji (1995)|Adventure|Childre...|\n",
      "|      3|Grumpier Old Men ...|      Comedy|Romance|\n",
      "|      4|Waiting to Exhale...|Comedy|Drama|Romance|\n",
      "|      5|Father of the Bri...|              Comedy|\n",
      "+-------+--------------------+--------------------+\n",
      "only showing top 5 rows\n",
      "\n"
     ]
    }
   ],
   "source": [
    "# Movies Information\n",
    "moviesDF = spark.read.csv('inputs/movies.csv',header=True)\n",
    "\n",
    "# Cast\n",
    "moviesDF = moviesDF.withColumn(\"movieId\",moviesDF.movieId.cast('int'))\n",
    "moviesDF.show(5)"
   ]
  },
  {
   "cell_type": "code",
   "execution_count": 4,
   "id": "68722b0d",
   "metadata": {
    "scrolled": true
   },
   "outputs": [
    {
     "name": "stdout",
     "output_type": "stream",
     "text": [
      "+------+-------+------+\n",
      "|UserID|MovieID|Rating|\n",
      "+------+-------+------+\n",
      "|     1|      1|     1|\n",
      "|     5|      1|     1|\n",
      "|     7|      1|     2|\n",
      "|    15|      1|     0|\n",
      "|    17|      1|     2|\n",
      "+------+-------+------+\n",
      "only showing top 5 rows\n",
      "\n"
     ]
    }
   ],
   "source": [
    "# User Qualifications\n",
    "userMoviesDF = spark.read.csv('inputs/filtered50movies.csv',header=True)\n",
    "\n",
    "# Cast\n",
    "userMoviesDF = userMoviesDF.withColumn(\"UserID\",userMoviesDF.UserID.cast('int'))\n",
    "userMoviesDF = userMoviesDF.withColumn(\"MovieID\",userMoviesDF.MovieID.cast('int'))\n",
    "userMoviesDF = userMoviesDF.withColumn(\"Rating\",userMoviesDF.Rating.cast('int'))\n",
    "\n",
    "# Sort By MoviesID\n",
    "userMoviesDF = userMoviesDF.orderBy('MovieID')\n",
    "\n",
    "userMoviesDF.show(5)"
   ]
  },
  {
   "cell_type": "code",
   "execution_count": 5,
   "id": "a42bcd99",
   "metadata": {},
   "outputs": [],
   "source": [
    "# Cartesian product\n",
    "userMoviesRDD = userMoviesDF.rdd.cartesian(userMoviesDF.rdd)\n",
    "\n",
    "# Filter the same user and different movie\n",
    "userMoviesRDD = userMoviesRDD.filter(lambda x: x[0][0] == x[1][0] and x[0][1] < x[1][1])"
   ]
  },
  {
   "cell_type": "code",
   "execution_count": 6,
   "id": "9dc1f948",
   "metadata": {},
   "outputs": [
    {
     "data": {
      "text/plain": [
       "[(Row(UserID=1, MovieID=1, Rating=1), Row(UserID=1, MovieID=3, Rating=1)),\n",
       " (Row(UserID=19, MovieID=1, Rating=1), Row(UserID=19, MovieID=3, Rating=0)),\n",
       " (Row(UserID=32, MovieID=1, Rating=0), Row(UserID=32, MovieID=3, Rating=0)),\n",
       " (Row(UserID=43, MovieID=1, Rating=2), Row(UserID=43, MovieID=3, Rating=2)),\n",
       " (Row(UserID=44, MovieID=1, Rating=0), Row(UserID=44, MovieID=3, Rating=0))]"
      ]
     },
     "execution_count": 6,
     "metadata": {},
     "output_type": "execute_result"
    }
   ],
   "source": [
    "userMoviesRDD.take(5)"
   ]
  },
  {
   "cell_type": "code",
   "execution_count": 7,
   "id": "eb4cff5f",
   "metadata": {},
   "outputs": [],
   "source": [
    "# Map\n",
    "userMoviesRDD = userMoviesRDD.map(lambda i:((i[0][1],i[1][1]), (i[0][2]*i[1][2],i[0][2]**2,i[1][2]**2)))"
   ]
  },
  {
   "cell_type": "code",
   "execution_count": 8,
   "id": "36a543e3",
   "metadata": {},
   "outputs": [],
   "source": [
    "# Reduce by Key\n",
    "userMoviesRDD = userMoviesRDD.reduceByKey(lambda x,y:(x[0]+y[0],x[1]+y[1],x[2]+y[2]))"
   ]
  },
  {
   "cell_type": "code",
   "execution_count": 9,
   "id": "64e549f8",
   "metadata": {},
   "outputs": [
    {
     "data": {
      "text/plain": [
       "[((1, 3), (22, 52, 30)),\n",
       " ((1, 6), (62, 86, 102)),\n",
       " ((1, 47), (109, 144, 197)),\n",
       " ((1, 50), (141, 156, 242)),\n",
       " ((1, 70), (15, 39, 42))]"
      ]
     },
     "execution_count": 9,
     "metadata": {},
     "output_type": "execute_result"
    }
   ],
   "source": [
    "userMoviesRDD.sortByKey().take(5)"
   ]
  },
  {
   "cell_type": "code",
   "execution_count": 10,
   "id": "7667f1b7",
   "metadata": {},
   "outputs": [],
   "source": [
    "def cosineDistance(val):\n",
    "    return val[0]/(math.sqrt(val[1])*math.sqrt(val[2]))"
   ]
  },
  {
   "cell_type": "code",
   "execution_count": 11,
   "id": "6a20e69f",
   "metadata": {},
   "outputs": [],
   "source": [
    "# Get Cosine for each pair of movies\n",
    "userMoviesRDD = userMoviesRDD.map(lambda x: (x[0][0],x[0][1],cosineDistance(x[1])))"
   ]
  },
  {
   "cell_type": "code",
   "execution_count": 12,
   "id": "8d017c55",
   "metadata": {},
   "outputs": [],
   "source": [
    "top10 = userMoviesRDD.sortBy(lambda x: -x[2]).take(10)"
   ]
  },
  {
   "cell_type": "code",
   "execution_count": 13,
   "id": "53e40d2f",
   "metadata": {},
   "outputs": [
    {
     "data": {
      "text/plain": [
       "[(151, 441, 0.9999999999999998),\n",
       " (661, 923, 0.9203579866168444),\n",
       " (362, 543, 0.8864052604279183),\n",
       " (50, 296, 0.8838436225454884),\n",
       " (608, 923, 0.877239316059811),\n",
       " (151, 919, 0.8660254037844387),\n",
       " (151, 457, 0.8486684247915055),\n",
       " (441, 923, 0.8411101831919989),\n",
       " (50, 593, 0.8383073406122689),\n",
       " (50, 527, 0.825837875567179)]"
      ]
     },
     "execution_count": 13,
     "metadata": {},
     "output_type": "execute_result"
    }
   ],
   "source": [
    "top10"
   ]
  },
  {
   "cell_type": "code",
   "execution_count": 14,
   "id": "91e7d5df",
   "metadata": {},
   "outputs": [],
   "source": [
    "def getMovieTitleById(id):\n",
    "    return moviesDF.filter(moviesDF.movieId == id).first().title"
   ]
  },
  {
   "cell_type": "code",
   "execution_count": 15,
   "id": "056f582d",
   "metadata": {},
   "outputs": [],
   "source": [
    "top10DF = spark.createDataFrame(top10,[\"Movie_1_ID\",\"Movie_2_ID\",\"Cosine Distance\"])"
   ]
  },
  {
   "cell_type": "code",
   "execution_count": 32,
   "id": "84106392",
   "metadata": {},
   "outputs": [
    {
     "name": "stdout",
     "output_type": "stream",
     "text": [
      "+----------+----------+------------------+\n",
      "|Movie_1_ID|Movie_2_ID|    CosineDistance|\n",
      "+----------+----------+------------------+\n",
      "|       151|       441|0.9999999999999998|\n",
      "|       661|       923|0.9203579866168444|\n",
      "|       362|       543|0.8864052604279183|\n",
      "|        50|       296|0.8838436225454884|\n",
      "|       608|       923| 0.877239316059811|\n",
      "|       151|       919|0.8660254037844387|\n",
      "|       151|       457|0.8486684247915055|\n",
      "|       441|       923|0.8411101831919989|\n",
      "|        50|       593|0.8383073406122689|\n",
      "|        50|       527| 0.825837875567179|\n",
      "+----------+----------+------------------+\n",
      "\n"
     ]
    }
   ],
   "source": [
    "top10DF.show()"
   ]
  },
  {
   "cell_type": "code",
   "execution_count": 31,
   "id": "23ca0458",
   "metadata": {},
   "outputs": [
    {
     "name": "stdout",
     "output_type": "stream",
     "text": [
      "+--------------------+--------------------+------------------+\n",
      "|             Movie_1|             Movie_2|    CosineDistance|\n",
      "+--------------------+--------------------+------------------+\n",
      "|      Rob Roy (1995)|Dazed and Confuse...|0.9999999999999998|\n",
      "|James and the Gia...| Citizen Kane (1941)|0.9203579866168444|\n",
      "|Jungle Book, The ...|So I Married an A...|0.8864052604279183|\n",
      "|Usual Suspects, T...| Pulp Fiction (1994)|0.8838436225454884|\n",
      "|        Fargo (1996)| Citizen Kane (1941)| 0.877239316059811|\n",
      "|      Rob Roy (1995)|Wizard of Oz, The...|0.8660254037844387|\n",
      "|      Rob Roy (1995)|Fugitive, The (1993)|0.8486684247915055|\n",
      "|Dazed and Confuse...| Citizen Kane (1941)|0.8411101831919989|\n",
      "|Usual Suspects, T...|Silence of the La...|0.8383073406122689|\n",
      "|Usual Suspects, T...|Schindler's List ...| 0.825837875567179|\n",
      "+--------------------+--------------------+------------------+\n",
      "\n"
     ]
    }
   ],
   "source": [
    "subset = top10DF.join(moviesDF,top10DF.Movie_1_ID == moviesDF.movieId,\"inner\")\n",
    "subset = subset.withColumnRenamed(\"title\", \"Movie_1\")\n",
    "subset = subset.select(col(\"Movie_1\"), col(\"Movie_2_ID\"), col(\"CosineDistance\"))\n",
    "\n",
    "subset = subset.join(moviesDF,subset.Movie_2_ID == moviesDF.movieId,\"inner\")\n",
    "subset = subset.withColumnRenamed(\"title\", \"Movie_2\")\n",
    "subset = subset.select(col(\"Movie_1\"), col(\"Movie_2\"), col(\"CosineDistance\"))\n",
    "subset.show()"
   ]
  }
 ],
 "metadata": {
  "kernelspec": {
   "display_name": "Python 3",
   "language": "python",
   "name": "python3"
  },
  "language_info": {
   "codemirror_mode": {
    "name": "ipython",
    "version": 3
   },
   "file_extension": ".py",
   "mimetype": "text/x-python",
   "name": "python",
   "nbconvert_exporter": "python",
   "pygments_lexer": "ipython3",
   "version": "3.8.8"
  }
 },
 "nbformat": 4,
 "nbformat_minor": 5
}
